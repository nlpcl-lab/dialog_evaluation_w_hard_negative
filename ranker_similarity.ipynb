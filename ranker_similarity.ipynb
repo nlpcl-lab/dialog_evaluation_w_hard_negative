{
 "cells": [
  {
   "cell_type": "code",
   "execution_count": 9,
   "id": "799aa562",
   "metadata": {},
   "outputs": [],
   "source": [
    "import argparse\n",
    "import os\n",
    "\n",
    "import numpy as np\n",
    "import torch\n",
    "from numpy import linalg\n",
    "from tensorboardX import SummaryWriter\n",
    "from torch.optim.adamw import AdamW\n",
    "from torch.utils.data import DataLoader, Dataset, RandomSampler\n",
    "from tqdm import tqdm\n",
    "from transformers import BertConfig, BertModel, BertTokenizer\n",
    "\n",
    "from get_dataset import get_dd_corpus, get_zhao_dataset\n",
    "from utils import (\n",
    "    dump_config,\n",
    "    get_correlation,\n",
    "    draw_scatter_plot,\n",
    "    load_model,\n",
    "    save_model,\n",
    "    softmax_2d,\n",
    "    set_random_seed,\n",
    "    get_usencoder,\n",
    "    write_summary,\n",
    ")"
   ]
  },
  {
   "cell_type": "code",
   "execution_count": 3,
   "id": "7b0c5e10",
   "metadata": {},
   "outputs": [],
   "source": [
    "from eval_bi_encoder import make_annotated_dataset"
   ]
  },
  {
   "cell_type": "code",
   "execution_count": 4,
   "id": "ed02e013",
   "metadata": {},
   "outputs": [
    {
     "name": "stdout",
     "output_type": "stream",
     "text": [
      "{'corpus': 'dd',\n",
      " 'ctx': ['sure . where do you want to go ? are you in the mood for anything in '\n",
      "         'particular ?',\n",
      "         \"how about some dumplings ? i just ca n't get enough of them .\",\n",
      "         \"dumplings again ? ! oh , amy , let 's try something new !\",\n",
      "         'well , what do you have in mind ?',\n",
      "         'how about the mongolian hot pot ?'],\n",
      " 'human_score': 1.75,\n",
      " 'hyp': 'did you go to school today ?',\n",
      " 'model': 'negative-sample',\n",
      " 'ref': \"oh , it 's too spicy for me . do n't you remember last time when i \"\n",
      "        'tasted the lamb ? it was so spicy my eyes teared up !'}\n"
     ]
    }
   ],
   "source": [
    "tokenizer = BertTokenizer.from_pretrained(\"bert-base-uncased\")\n",
    "special_tokens_dict = {\"additional_special_tokens\": [\"[SEPT]\"]}\n",
    "tokenizer.add_special_tokens(special_tokens_dict)\n",
    "raw_dd_train = get_dd_corpus(\"train\")\n",
    "test_data = make_annotated_dataset(get_zhao_dataset(\"dd\"), tokenizer)\n",
    "all_uttrs = [uttr for conv in raw_dd_train for uttr in conv]"
   ]
  },
  {
   "cell_type": "code",
   "execution_count": 6,
   "id": "9cb1b37a",
   "metadata": {},
   "outputs": [],
   "source": [
    "with open(\"./data/cache/dd-response-bi64-epoch0-1000.json\",'rb') as f:\n",
    "    response_score = np.load(f)\n",
    "with open(\"./data/cache/dd-hyp-bi64-epoch0-1000.json\",'rb') as f:\n",
    "    hyp_score = np.load(f)"
   ]
  },
  {
   "cell_type": "code",
   "execution_count": 12,
   "id": "1c207a50",
   "metadata": {},
   "outputs": [
    {
     "name": "stdout",
     "output_type": "stream",
     "text": [
      "Collecting tensorflow_hub\n",
      "  Downloading tensorflow_hub-0.12.0-py2.py3-none-any.whl (108 kB)\n",
      "\u001b[K     |████████████████████████████████| 108 kB 1.6 MB/s eta 0:00:01\n",
      "\u001b[?25hRequirement already satisfied: protobuf>=3.8.0 in ./env/lib/python3.8/site-packages (from tensorflow_hub) (3.14.0)\n",
      "Requirement already satisfied: numpy>=1.12.0 in ./env/lib/python3.8/site-packages (from tensorflow_hub) (1.20.0)\n",
      "Requirement already satisfied: six>=1.9 in ./env/lib/python3.8/site-packages (from protobuf>=3.8.0->tensorflow_hub) (1.14.0)\n",
      "Installing collected packages: tensorflow-hub\n",
      "Successfully installed tensorflow-hub-0.12.0\n"
     ]
    },
    {
     "name": "stderr",
     "output_type": "stream",
     "text": [
      "INFO:absl:Using /tmp/tfhub_modules to cache modules.\n",
      "INFO:absl:Downloading TF-Hub Module 'https://tfhub.dev/google/universal-sentence-encoder/4'.\n",
      "INFO:absl:Downloading https://tfhub.dev/google/universal-sentence-encoder/4: 160.00MB\n",
      "INFO:absl:Downloading https://tfhub.dev/google/universal-sentence-encoder/4: 310.00MB\n",
      "INFO:absl:Downloading https://tfhub.dev/google/universal-sentence-encoder/4: 470.00MB\n",
      "INFO:absl:Downloading https://tfhub.dev/google/universal-sentence-encoder/4: 630.00MB\n",
      "INFO:absl:Downloading https://tfhub.dev/google/universal-sentence-encoder/4: 790.00MB\n",
      "INFO:absl:Downloading https://tfhub.dev/google/universal-sentence-encoder/4: 910.00MB\n",
      "INFO:absl:Downloaded https://tfhub.dev/google/universal-sentence-encoder/4, Total size: 987.47MB\n",
      "INFO:absl:Downloaded TF-Hub Module 'https://tfhub.dev/google/universal-sentence-encoder/4'.\n"
     ]
    }
   ],
   "source": [
    "!pip install tensorflow_hub\n",
    "use_model = get_usencoder()"
   ]
  },
  {
   "cell_type": "code",
   "execution_count": 45,
   "id": "84ec9112",
   "metadata": {},
   "outputs": [],
   "source": [
    "from nlgeval import NLGEval\n",
    "from sklearn.metrics.pairwise import cosine_similarity\n",
    "from tqdm import tqdm\n",
    "from bert_score import score as bertscore\n",
    "from nltk.translate.bleu_score import sentence_bleu\n",
    "from matplotlib import pyplot as plt\n",
    "import pickle"
   ]
  },
  {
   "cell_type": "code",
   "execution_count": 68,
   "id": "9eb57350",
   "metadata": {},
   "outputs": [
    {
     "name": "stdout",
     "output_type": "stream",
     "text": [
      "embeddingAvg\n",
      "10\n"
     ]
    },
    {
     "name": "stderr",
     "output_type": "stream",
     "text": [
      "100%|██████████| 800/800 [00:27<00:00, 29.42it/s]\n"
     ]
    },
    {
     "name": "stdout",
     "output_type": "stream",
     "text": [
      "50\n"
     ]
    },
    {
     "name": "stderr",
     "output_type": "stream",
     "text": [
      "  4%|▍         | 34/800 [00:04<01:40,  7.61it/s]\n"
     ]
    },
    {
     "ename": "KeyboardInterrupt",
     "evalue": "",
     "output_type": "error",
     "traceback": [
      "\u001b[0;31m---------------------------------------------------------------------------\u001b[0m",
      "\u001b[0;31mKeyboardInterrupt\u001b[0m                         Traceback (most recent call last)",
      "\u001b[0;32m<ipython-input-68-0f46f6e94bcc>\u001b[0m in \u001b[0;36m<module>\u001b[0;34m\u001b[0m\n\u001b[1;32m     60\u001b[0m             \u001b[0;31m# get similarity\u001b[0m\u001b[0;34m\u001b[0m\u001b[0;34m\u001b[0m\u001b[0;34m\u001b[0m\u001b[0m\n\u001b[1;32m     61\u001b[0m             \u001b[0mhyp_ref_score\u001b[0m \u001b[0;34m=\u001b[0m \u001b[0mget_similarity_score\u001b[0m\u001b[0;34m(\u001b[0m\u001b[0mmetric\u001b[0m\u001b[0;34m,\u001b[0m\u001b[0;34m[\u001b[0m\u001b[0mref\u001b[0m\u001b[0;34m]\u001b[0m\u001b[0;34m,\u001b[0m\u001b[0mhyp\u001b[0m\u001b[0;34m)\u001b[0m\u001b[0;34m\u001b[0m\u001b[0;34m\u001b[0m\u001b[0m\n\u001b[0;32m---> 62\u001b[0;31m             \u001b[0mcandidate_score\u001b[0m \u001b[0;34m=\u001b[0m \u001b[0mget_similarity_score\u001b[0m\u001b[0;34m(\u001b[0m\u001b[0mmetric\u001b[0m\u001b[0;34m,\u001b[0m\u001b[0mretrieved_candidate\u001b[0m\u001b[0;34m,\u001b[0m\u001b[0mhyp\u001b[0m\u001b[0;34m)\u001b[0m\u001b[0;34m\u001b[0m\u001b[0;34m\u001b[0m\u001b[0m\n\u001b[0m\u001b[1;32m     63\u001b[0m             \u001b[0;32massert\u001b[0m \u001b[0mlen\u001b[0m\u001b[0;34m(\u001b[0m\u001b[0mhyp_ref_score\u001b[0m\u001b[0;34m)\u001b[0m \u001b[0;34m==\u001b[0m \u001b[0;36m1\u001b[0m\u001b[0;34m\u001b[0m\u001b[0;34m\u001b[0m\u001b[0m\n\u001b[1;32m     64\u001b[0m             \u001b[0;32massert\u001b[0m \u001b[0mlen\u001b[0m\u001b[0;34m(\u001b[0m\u001b[0mcandidate_score\u001b[0m\u001b[0;34m)\u001b[0m \u001b[0;34m==\u001b[0m \u001b[0mretrieve_num\u001b[0m\u001b[0;34m\u001b[0m\u001b[0;34m\u001b[0m\u001b[0m\n",
      "\u001b[0;32m<ipython-input-68-0f46f6e94bcc>\u001b[0m in \u001b[0;36mget_similarity_score\u001b[0;34m(metric, ref, hyp)\u001b[0m\n\u001b[1;32m     21\u001b[0m         \u001b[0;32mreturn\u001b[0m \u001b[0msim\u001b[0m\u001b[0;34m\u001b[0m\u001b[0;34m\u001b[0m\u001b[0m\n\u001b[1;32m     22\u001b[0m     \u001b[0;32melif\u001b[0m \u001b[0mmetric\u001b[0m \u001b[0;34m==\u001b[0m\u001b[0;34m'embeddingAvg'\u001b[0m\u001b[0;34m:\u001b[0m\u001b[0;34m\u001b[0m\u001b[0;34m\u001b[0m\u001b[0m\n\u001b[0;32m---> 23\u001b[0;31m         \u001b[0mresult\u001b[0m \u001b[0;34m=\u001b[0m \u001b[0;34m[\u001b[0m\u001b[0mnlgeval\u001b[0m\u001b[0;34m.\u001b[0m\u001b[0mcompute_individual_metrics\u001b[0m\u001b[0;34m(\u001b[0m\u001b[0;34m[\u001b[0m\u001b[0mel\u001b[0m\u001b[0;34m]\u001b[0m\u001b[0;34m,\u001b[0m\u001b[0mhyp\u001b[0m\u001b[0;34m)\u001b[0m \u001b[0;32mfor\u001b[0m \u001b[0mel\u001b[0m \u001b[0;32min\u001b[0m \u001b[0mref\u001b[0m\u001b[0;34m]\u001b[0m\u001b[0;34m\u001b[0m\u001b[0;34m\u001b[0m\u001b[0m\n\u001b[0m\u001b[1;32m     24\u001b[0m         \u001b[0msim_avg\u001b[0m \u001b[0;34m=\u001b[0m \u001b[0;34m[\u001b[0m\u001b[0mel\u001b[0m\u001b[0;34m[\u001b[0m\u001b[0;34m'EmbeddingAverageCosineSimilarity'\u001b[0m\u001b[0;34m]\u001b[0m \u001b[0;32mfor\u001b[0m \u001b[0mel\u001b[0m \u001b[0;32min\u001b[0m \u001b[0mresult\u001b[0m\u001b[0;34m]\u001b[0m\u001b[0;34m\u001b[0m\u001b[0;34m\u001b[0m\u001b[0m\n\u001b[1;32m     25\u001b[0m         \u001b[0;32mreturn\u001b[0m \u001b[0msim_avg\u001b[0m\u001b[0;34m\u001b[0m\u001b[0;34m\u001b[0m\u001b[0m\n",
      "\u001b[0;32m<ipython-input-68-0f46f6e94bcc>\u001b[0m in \u001b[0;36m<listcomp>\u001b[0;34m(.0)\u001b[0m\n\u001b[1;32m     21\u001b[0m         \u001b[0;32mreturn\u001b[0m \u001b[0msim\u001b[0m\u001b[0;34m\u001b[0m\u001b[0;34m\u001b[0m\u001b[0m\n\u001b[1;32m     22\u001b[0m     \u001b[0;32melif\u001b[0m \u001b[0mmetric\u001b[0m \u001b[0;34m==\u001b[0m\u001b[0;34m'embeddingAvg'\u001b[0m\u001b[0;34m:\u001b[0m\u001b[0;34m\u001b[0m\u001b[0;34m\u001b[0m\u001b[0m\n\u001b[0;32m---> 23\u001b[0;31m         \u001b[0mresult\u001b[0m \u001b[0;34m=\u001b[0m \u001b[0;34m[\u001b[0m\u001b[0mnlgeval\u001b[0m\u001b[0;34m.\u001b[0m\u001b[0mcompute_individual_metrics\u001b[0m\u001b[0;34m(\u001b[0m\u001b[0;34m[\u001b[0m\u001b[0mel\u001b[0m\u001b[0;34m]\u001b[0m\u001b[0;34m,\u001b[0m\u001b[0mhyp\u001b[0m\u001b[0;34m)\u001b[0m \u001b[0;32mfor\u001b[0m \u001b[0mel\u001b[0m \u001b[0;32min\u001b[0m \u001b[0mref\u001b[0m\u001b[0;34m]\u001b[0m\u001b[0;34m\u001b[0m\u001b[0;34m\u001b[0m\u001b[0m\n\u001b[0m\u001b[1;32m     24\u001b[0m         \u001b[0msim_avg\u001b[0m \u001b[0;34m=\u001b[0m \u001b[0;34m[\u001b[0m\u001b[0mel\u001b[0m\u001b[0;34m[\u001b[0m\u001b[0;34m'EmbeddingAverageCosineSimilarity'\u001b[0m\u001b[0;34m]\u001b[0m \u001b[0;32mfor\u001b[0m \u001b[0mel\u001b[0m \u001b[0;32min\u001b[0m \u001b[0mresult\u001b[0m\u001b[0;34m]\u001b[0m\u001b[0;34m\u001b[0m\u001b[0;34m\u001b[0m\u001b[0m\n\u001b[1;32m     25\u001b[0m         \u001b[0;32mreturn\u001b[0m \u001b[0msim_avg\u001b[0m\u001b[0;34m\u001b[0m\u001b[0;34m\u001b[0m\u001b[0m\n",
      "\u001b[0;32m~/contrastive_dialog_eval/env/lib/python3.8/site-packages/nlgeval/__init__.py\u001b[0m in \u001b[0;36mcompute_individual_metrics\u001b[0;34m(self, ref, hyp)\u001b[0m\n\u001b[1;32m    257\u001b[0m         \u001b[0;32mif\u001b[0m \u001b[0;32mnot\u001b[0m \u001b[0mself\u001b[0m\u001b[0;34m.\u001b[0m\u001b[0mno_overlap\u001b[0m\u001b[0;34m:\u001b[0m\u001b[0;34m\u001b[0m\u001b[0;34m\u001b[0m\u001b[0m\n\u001b[1;32m    258\u001b[0m             \u001b[0;32mfor\u001b[0m \u001b[0mscorer\u001b[0m\u001b[0;34m,\u001b[0m \u001b[0mmethod\u001b[0m \u001b[0;32min\u001b[0m \u001b[0mself\u001b[0m\u001b[0;34m.\u001b[0m\u001b[0mscorers\u001b[0m\u001b[0;34m:\u001b[0m\u001b[0;34m\u001b[0m\u001b[0;34m\u001b[0m\u001b[0m\n\u001b[0;32m--> 259\u001b[0;31m                 \u001b[0mscore\u001b[0m\u001b[0;34m,\u001b[0m \u001b[0mscores\u001b[0m \u001b[0;34m=\u001b[0m \u001b[0mscorer\u001b[0m\u001b[0;34m.\u001b[0m\u001b[0mcompute_score\u001b[0m\u001b[0;34m(\u001b[0m\u001b[0mrefs\u001b[0m\u001b[0;34m,\u001b[0m \u001b[0mhyps\u001b[0m\u001b[0;34m)\u001b[0m\u001b[0;34m\u001b[0m\u001b[0;34m\u001b[0m\u001b[0m\n\u001b[0m\u001b[1;32m    260\u001b[0m                 \u001b[0;32mif\u001b[0m \u001b[0misinstance\u001b[0m\u001b[0;34m(\u001b[0m\u001b[0mmethod\u001b[0m\u001b[0;34m,\u001b[0m \u001b[0mlist\u001b[0m\u001b[0;34m)\u001b[0m\u001b[0;34m:\u001b[0m\u001b[0;34m\u001b[0m\u001b[0;34m\u001b[0m\u001b[0m\n\u001b[1;32m    261\u001b[0m                     \u001b[0;32mfor\u001b[0m \u001b[0msc\u001b[0m\u001b[0;34m,\u001b[0m \u001b[0mscs\u001b[0m\u001b[0;34m,\u001b[0m \u001b[0mm\u001b[0m \u001b[0;32min\u001b[0m \u001b[0mzip\u001b[0m\u001b[0;34m(\u001b[0m\u001b[0mscore\u001b[0m\u001b[0;34m,\u001b[0m \u001b[0mscores\u001b[0m\u001b[0;34m,\u001b[0m \u001b[0mmethod\u001b[0m\u001b[0;34m)\u001b[0m\u001b[0;34m:\u001b[0m\u001b[0;34m\u001b[0m\u001b[0;34m\u001b[0m\u001b[0m\n",
      "\u001b[0;32m~/contrastive_dialog_eval/env/lib/python3.8/site-packages/nlgeval/pycocoevalcap/bleu/bleu.py\u001b[0m in \u001b[0;36mcompute_score\u001b[0;34m(self, gts, res)\u001b[0m\n\u001b[1;32m     35\u001b[0m             \u001b[0;32massert\u001b[0m\u001b[0;34m(\u001b[0m\u001b[0mlen\u001b[0m\u001b[0;34m(\u001b[0m\u001b[0mref\u001b[0m\u001b[0;34m)\u001b[0m \u001b[0;34m>=\u001b[0m \u001b[0;36m1\u001b[0m\u001b[0;34m)\u001b[0m\u001b[0;34m\u001b[0m\u001b[0;34m\u001b[0m\u001b[0m\n\u001b[1;32m     36\u001b[0m \u001b[0;34m\u001b[0m\u001b[0m\n\u001b[0;32m---> 37\u001b[0;31m             \u001b[0mbleu_scorer\u001b[0m \u001b[0;34m+=\u001b[0m \u001b[0;34m(\u001b[0m\u001b[0mhypo\u001b[0m\u001b[0;34m[\u001b[0m\u001b[0;36m0\u001b[0m\u001b[0;34m]\u001b[0m\u001b[0;34m,\u001b[0m \u001b[0mref\u001b[0m\u001b[0;34m)\u001b[0m\u001b[0;34m\u001b[0m\u001b[0;34m\u001b[0m\u001b[0m\n\u001b[0m\u001b[1;32m     38\u001b[0m \u001b[0;34m\u001b[0m\u001b[0m\n\u001b[1;32m     39\u001b[0m         \u001b[0;31m#score, scores = bleu_scorer.compute_score(option='shortest')\u001b[0m\u001b[0;34m\u001b[0m\u001b[0;34m\u001b[0m\u001b[0;34m\u001b[0m\u001b[0m\n",
      "\u001b[0;32m~/contrastive_dialog_eval/env/lib/python3.8/site-packages/nlgeval/pycocoevalcap/bleu/bleu_scorer.py\u001b[0m in \u001b[0;36m__iadd__\u001b[0;34m(self, other)\u001b[0m\n\u001b[1;32m    169\u001b[0m         \u001b[0;32mif\u001b[0m \u001b[0mtype\u001b[0m\u001b[0;34m(\u001b[0m\u001b[0mother\u001b[0m\u001b[0;34m)\u001b[0m \u001b[0;32mis\u001b[0m \u001b[0mtuple\u001b[0m\u001b[0;34m:\u001b[0m\u001b[0;34m\u001b[0m\u001b[0;34m\u001b[0m\u001b[0m\n\u001b[1;32m    170\u001b[0m             \u001b[0;31m## avoid creating new BleuScorer instances\u001b[0m\u001b[0;34m\u001b[0m\u001b[0;34m\u001b[0m\u001b[0;34m\u001b[0m\u001b[0m\n\u001b[0;32m--> 171\u001b[0;31m             \u001b[0mself\u001b[0m\u001b[0;34m.\u001b[0m\u001b[0mcook_append\u001b[0m\u001b[0;34m(\u001b[0m\u001b[0mother\u001b[0m\u001b[0;34m[\u001b[0m\u001b[0;36m0\u001b[0m\u001b[0;34m]\u001b[0m\u001b[0;34m,\u001b[0m \u001b[0mother\u001b[0m\u001b[0;34m[\u001b[0m\u001b[0;36m1\u001b[0m\u001b[0;34m]\u001b[0m\u001b[0;34m)\u001b[0m\u001b[0;34m\u001b[0m\u001b[0;34m\u001b[0m\u001b[0m\n\u001b[0m\u001b[1;32m    172\u001b[0m         \u001b[0;32melse\u001b[0m\u001b[0;34m:\u001b[0m\u001b[0;34m\u001b[0m\u001b[0;34m\u001b[0m\u001b[0m\n\u001b[1;32m    173\u001b[0m             \u001b[0;32massert\u001b[0m \u001b[0mself\u001b[0m\u001b[0;34m.\u001b[0m\u001b[0mcompatible\u001b[0m\u001b[0;34m(\u001b[0m\u001b[0mother\u001b[0m\u001b[0;34m)\u001b[0m\u001b[0;34m,\u001b[0m \u001b[0;34m\"incompatible BLEUs.\"\u001b[0m\u001b[0;34m\u001b[0m\u001b[0;34m\u001b[0m\u001b[0m\n",
      "\u001b[0;32m~/contrastive_dialog_eval/env/lib/python3.8/site-packages/nlgeval/pycocoevalcap/bleu/bleu_scorer.py\u001b[0m in \u001b[0;36mcook_append\u001b[0;34m(self, test, refs)\u001b[0m\n\u001b[1;32m    116\u001b[0m \u001b[0;34m\u001b[0m\u001b[0m\n\u001b[1;32m    117\u001b[0m         \u001b[0;32mif\u001b[0m \u001b[0mrefs\u001b[0m \u001b[0;32mis\u001b[0m \u001b[0;32mnot\u001b[0m \u001b[0;32mNone\u001b[0m\u001b[0;34m:\u001b[0m\u001b[0;34m\u001b[0m\u001b[0;34m\u001b[0m\u001b[0m\n\u001b[0;32m--> 118\u001b[0;31m             \u001b[0mself\u001b[0m\u001b[0;34m.\u001b[0m\u001b[0mcrefs\u001b[0m\u001b[0;34m.\u001b[0m\u001b[0mappend\u001b[0m\u001b[0;34m(\u001b[0m\u001b[0mcook_refs\u001b[0m\u001b[0;34m(\u001b[0m\u001b[0mrefs\u001b[0m\u001b[0;34m)\u001b[0m\u001b[0;34m)\u001b[0m\u001b[0;34m\u001b[0m\u001b[0;34m\u001b[0m\u001b[0m\n\u001b[0m\u001b[1;32m    119\u001b[0m             \u001b[0;32mif\u001b[0m \u001b[0mtest\u001b[0m \u001b[0;32mis\u001b[0m \u001b[0;32mnot\u001b[0m \u001b[0;32mNone\u001b[0m\u001b[0;34m:\u001b[0m\u001b[0;34m\u001b[0m\u001b[0;34m\u001b[0m\u001b[0m\n\u001b[1;32m    120\u001b[0m                 \u001b[0mcooked_test\u001b[0m \u001b[0;34m=\u001b[0m \u001b[0mcook_test\u001b[0m\u001b[0;34m(\u001b[0m\u001b[0mtest\u001b[0m\u001b[0;34m,\u001b[0m \u001b[0mself\u001b[0m\u001b[0;34m.\u001b[0m\u001b[0mcrefs\u001b[0m\u001b[0;34m[\u001b[0m\u001b[0;34m-\u001b[0m\u001b[0;36m1\u001b[0m\u001b[0;34m]\u001b[0m\u001b[0;34m)\u001b[0m\u001b[0;34m\u001b[0m\u001b[0;34m\u001b[0m\u001b[0m\n",
      "\u001b[0;32m~/contrastive_dialog_eval/env/lib/python3.8/site-packages/nlgeval/pycocoevalcap/bleu/bleu_scorer.py\u001b[0m in \u001b[0;36mcook_refs\u001b[0;34m(refs, eff, n)\u001b[0m\n\u001b[1;32m     48\u001b[0m         \u001b[0mreflen\u001b[0m\u001b[0;34m.\u001b[0m\u001b[0mappend\u001b[0m\u001b[0;34m(\u001b[0m\u001b[0mrl\u001b[0m\u001b[0;34m)\u001b[0m\u001b[0;34m\u001b[0m\u001b[0;34m\u001b[0m\u001b[0m\n\u001b[1;32m     49\u001b[0m         \u001b[0;32mfor\u001b[0m \u001b[0;34m(\u001b[0m\u001b[0mngram\u001b[0m\u001b[0;34m,\u001b[0m\u001b[0mcount\u001b[0m\u001b[0;34m)\u001b[0m \u001b[0;32min\u001b[0m \u001b[0msix\u001b[0m\u001b[0;34m.\u001b[0m\u001b[0miteritems\u001b[0m\u001b[0;34m(\u001b[0m\u001b[0mcounts\u001b[0m\u001b[0;34m)\u001b[0m\u001b[0;34m:\u001b[0m\u001b[0;34m\u001b[0m\u001b[0;34m\u001b[0m\u001b[0m\n\u001b[0;32m---> 50\u001b[0;31m             \u001b[0mmaxcounts\u001b[0m\u001b[0;34m[\u001b[0m\u001b[0mngram\u001b[0m\u001b[0;34m]\u001b[0m \u001b[0;34m=\u001b[0m \u001b[0mmax\u001b[0m\u001b[0;34m(\u001b[0m\u001b[0mmaxcounts\u001b[0m\u001b[0;34m.\u001b[0m\u001b[0mget\u001b[0m\u001b[0;34m(\u001b[0m\u001b[0mngram\u001b[0m\u001b[0;34m,\u001b[0m\u001b[0;36m0\u001b[0m\u001b[0;34m)\u001b[0m\u001b[0;34m,\u001b[0m \u001b[0mcount\u001b[0m\u001b[0;34m)\u001b[0m\u001b[0;34m\u001b[0m\u001b[0;34m\u001b[0m\u001b[0m\n\u001b[0m\u001b[1;32m     51\u001b[0m \u001b[0;34m\u001b[0m\u001b[0m\n\u001b[1;32m     52\u001b[0m     \u001b[0;31m# Calculate effective reference sentence length.\u001b[0m\u001b[0;34m\u001b[0m\u001b[0;34m\u001b[0m\u001b[0;34m\u001b[0m\u001b[0m\n",
      "\u001b[0;31mKeyboardInterrupt\u001b[0m: "
     ]
    }
   ],
   "source": [
    "nlgeval = NLGEval(metrics_to_omit=[\"SkipThoughtCS\"])\n",
    "\n",
    "def get_similarity_score(metric:str, ref, hyp:str):\n",
    "    assert isinstance(ref,list) and isinstance(hyp,str)\n",
    "    if metric == 'use':\n",
    "        ref_emb_list = use_model(ref)\n",
    "        hyp_emb_list = use_model([hyp])\n",
    "        sim_list = cosine_similarity(hyp_emb_list, ref_emb_list)[0]\n",
    "        assert len(sim_list) == len(ref)\n",
    "        return [float(el) for el in sim_list]\n",
    "    elif metric == 'bertscore':\n",
    "        return [float(el) for el in bertscore([hyp for _ in range(len(ref))], ref, rescale_with_baseline=True, lang=\"en\")[-1]]\n",
    "    elif metric == 'bleu1':\n",
    "        sim = [sentence_bleu([el.split()],hyp.split(),(1,0,0,0)) for el in ref]\n",
    "        return sim\n",
    "    elif metric == 'bleu2':\n",
    "        sim = [sentence_bleu([el.split()],hyp.split(),(0,1,0,0)) for el in ref]\n",
    "        return sim\n",
    "    elif metric == 'bleu1/2':\n",
    "        sim = [sentence_bleu([el.split()],hyp.split(),(0.5,0.5,0,0)) for el in ref]\n",
    "        return sim\n",
    "    elif metric =='embeddingAvg':\n",
    "        result = [nlgeval.compute_individual_metrics([el],hyp) for el in ref]\n",
    "        sim_avg = [el['EmbeddingAverageCosineSimilarity'] for el in result]\n",
    "        return sim_avg\n",
    "    elif metric =='embeddingGrd':\n",
    "        result = [nlgeval.compute_individual_metrics([el],hyp) for el in ref]\n",
    "        sim_grd = [el['GreedyMatchingScore'] for el in result]\n",
    "        return sim_grd\n",
    "    elif metric =='embeddingExt':\n",
    "        result = [nlgeval.compute_individual_metrics([el],hyp) for el in ref]\n",
    "        sim_ext = [el['VectorExtremaCosineSimilarity'] for el in result]\n",
    "        return sim_ext\n",
    "        \n",
    "\n",
    "total_result = {}\n",
    "        \n",
    "for metric in ['embeddingAvg','embeddingGrd','embeddingExt','use','bleu1','bleu2','bleu1/2']:\n",
    "    total_result[metric] = {}\n",
    "    print(metric)\n",
    "    for retrieve_num in [10,50,100,200,500]:\n",
    "        print(retrieve_num)\n",
    "        total_result[metric][retrieve_num] = {}\n",
    "        sorted_response_index = np.argsort(-response_score,1)[:,:retrieve_num]\n",
    "        sorted_response_uttrs = [[all_uttrs[idx] for idx in one_indices] for one_indices in sorted_response_index]\n",
    "\n",
    "        # ctx, ref, hyp, score = item\n",
    "        mean_pred, max_pred,median_pred , min_pred= [[],[],[],[]]\n",
    "        humanscore = []\n",
    "        ref_pred = []\n",
    "        for idx,item in enumerate(tqdm(test_data)):\n",
    "            ctx, ref, hyp, score = item\n",
    "            \n",
    "            # prepare input\n",
    "            humanscore.append(score)\n",
    "            hyp = ' '.join(tokenizer.convert_ids_to_tokens(hyp[1:-1])).replace(\" ##\",'')\n",
    "            ref = ' '.join(tokenizer.convert_ids_to_tokens(ref[1:-1])).replace(\" ##\",'')\n",
    "            retrieved_candidate = sorted_response_uttrs[idx]\n",
    "            \n",
    "            # get similarity\n",
    "            hyp_ref_score = get_similarity_score(metric,[ref],hyp)\n",
    "            candidate_score = get_similarity_score(metric,retrieved_candidate,hyp)\n",
    "            assert len(hyp_ref_score) == 1 \n",
    "            assert len(candidate_score) == retrieve_num \n",
    "            \n",
    "            ref_pred.append(hyp_ref_score[0])\n",
    "            mean_pred.append(np.mean(candidate_score))\n",
    "            median_pred.append(np.median(candidate_score))\n",
    "            min_pred.append(np.min(candidate_score))\n",
    "            max_pred.append(np.max(candidate_score))\n",
    "\n",
    "        ref_score = get_correlation(humanscore, ref_pred)\n",
    "        mean_score = get_correlation(humanscore, mean_pred)\n",
    "        median_score = get_correlation(humanscore, median_pred)\n",
    "        max_score = get_correlation(humanscore, max_pred)\n",
    "        min_score = get_correlation(humanscore, min_pred)\n",
    "        \n",
    "        total_result[metric][retrieve_num]['ref'] = ref_score\n",
    "        total_result[metric][retrieve_num]['mean'] = mean_score\n",
    "        total_result[metric][retrieve_num]['median'] = median_score\n",
    "        total_result[metric][retrieve_num]['max'] = max_score\n",
    "        total_result[metric][retrieve_num]['min'] = min_score\n",
    "        \n",
    "\n",
    "with open(\"result.pck\",'wb') as f:\n",
    "    pickle.dump(total_result, f)"
   ]
  },
  {
   "cell_type": "code",
   "execution_count": 42,
   "id": "a86b9b4c",
   "metadata": {},
   "outputs": [
    {
     "data": {
      "image/png": "[encoded data removed]",
      "text/plain": [
       "<Figure size 432x288 with 1 Axes>"
      ]
     },
     "metadata": {
      "needs_background": "light"
     },
     "output_type": "display_data"
    },
    {
     "data": {
      "image/png": "[encoded data removed]",
      "text/plain": [
       "<Figure size 432x288 with 1 Axes>"
      ]
     },
     "metadata": {
      "needs_background": "light"
     },
     "output_type": "display_data"
    },
    {
     "data": {
      "image/png": "[encoded data removed]",
      "text/plain": [
       "<Figure size 432x288 with 1 Axes>"
      ]
     },
     "metadata": {
      "needs_background": "light"
     },
     "output_type": "display_data"
    }
   ],
   "source": [
    "def draw_scatter_plot(title, x, y):\n",
    "    x = [el + np.random.normal(0, 0.3 * 0.3, 1)[0] for el in x]\n",
    "    fig, axs = plt.subplots()\n",
    "    axs.set_title(title)\n",
    "    axs.set_title(title)\n",
    "    axs.set_xticks([1, 2, 3, 4, 5])\n",
    "    axs.scatter(x, y, s=0.3, c=\"green\")\n",
    "\n",
    "    plt.tight_layout()\n",
    "    plt.show()\n",
    "    \n",
    "\n",
    "\n",
    "draw_scatter_plot('ref',humanscore, ref_pred)\n",
    "draw_scatter_plot('max',humanscore, max_pred)\n",
    "draw_scatter_plot('mean',humanscore, mean_pred)"
   ]
  }
 ],
 "metadata": {
  "kernelspec": {
   "display_name": "Python 3",
   "language": "python",
   "name": "python3"
  },
  "language_info": {
   "codemirror_mode": {
    "name": "ipython",
    "version": 3
   },
   "file_extension": ".py",
   "mimetype": "text/x-python",
   "name": "python",
   "nbconvert_exporter": "python",
   "pygments_lexer": "ipython3",
   "version": "3.8.5"
  }
 },
 "nbformat": 4,
 "nbformat_minor": 5
}
