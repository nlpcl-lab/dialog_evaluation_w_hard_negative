{
 "cells": [
  {
   "cell_type": "code",
   "execution_count": 3,
   "id": "27adf825",
   "metadata": {},
   "outputs": [
    {
     "name": "stdout",
     "output_type": "stream",
     "text": [
      "<class 'dict'>\n",
      "dict_keys(['class_probabilities', 'spans', 'tokens', 'pos_tags', 'num_spans', 'hierplane_tree', 'trees'])\n"
     ]
    }
   ],
   "source": [
    "from allennlp.predictors.predictor import Predictor\n",
    "import allennlp_models.tagging\n",
    "\n",
    "predictor = Predictor.from_path(\"https://storage.googleapis.com/allennlp-public-models/elmo-constituency-parser-2020.02.10.tar.gz\")\n",
    "result = predictor.predict(\n",
    "    sentence=\"If you bring $10 with you tomorrow, can you pay for me to eat too?.\"\n",
    ")\n",
    "print(type(result))\n",
    "print(result.keys())\n"
   ]
  },
  {
   "cell_type": "code",
   "execution_count": 10,
   "id": "6a62f873",
   "metadata": {},
   "outputs": [
    {
     "name": "stdout",
     "output_type": "stream",
     "text": [
      "(SQ\n",
      "  (SBAR\n",
      "    (IN If)\n",
      "    (S\n",
      "      (NP (PRP you))\n",
      "      (VP\n",
      "        (VBP bring)\n",
      "        (NP (NP ($ $) (CD 10)) (PP (IN with) (NP (PRP you))))\n",
      "        (NP (NN tomorrow)))))\n",
      "  (, ,)\n",
      "  (MD can)\n",
      "  (NP (PRP you))\n",
      "  (VP\n",
      "    (VB pay)\n",
      "    (IN for)\n",
      "    (S (NP (PRP me)) (VP (TO to) (VP (VB eat) (ADVP (RB too))))))\n",
      "  (. ?)\n",
      "  (. .))\n",
      "\n",
      "\n",
      "\n",
      "\n",
      "\n",
      "\n",
      "\n"
     ]
    }
   ],
   "source": [
    "from nltk import tree\n",
    "parse = tree.Tree.fromstring(result['trees'])\n",
    "print(parse)\n",
    "for a in parse:\n",
    "    print()"
   ]
  },
  {
   "cell_type": "code",
   "execution_count": 28,
   "id": "8a2355d9",
   "metadata": {},
   "outputs": [
    {
     "name": "stdout",
     "output_type": "stream",
     "text": [
      "(ROOT\n",
      "  (S\n",
      "    (NP (NNP Europe))\n",
      "    (VP (VBZ is) (PP (IN in) (NP (DT the) (JJ same) (NNS trends))))\n",
      "    (. .)))\n",
      "---\n",
      "['Europe', 'is', 'in', 'the', 'same', 'trends', '.']\n",
      "---\n",
      "['Europe', 'is', 'in', 'the', 'same', 'trends', '.']\n",
      "---\n",
      "['Europe']\n",
      "---\n",
      "['Europe']\n",
      "- Europe\n",
      "---\n",
      "['is', 'in', 'the', 'same', 'trends']\n",
      "---\n",
      "['is']\n",
      "- is\n",
      "---\n",
      "['in', 'the', 'same', 'trends']\n",
      "---\n",
      "['in']\n",
      "- in\n",
      "---\n",
      "['the', 'same', 'trends']\n",
      "---\n",
      "['the']\n",
      "- the\n",
      "---\n",
      "['same']\n",
      "- same\n",
      "---\n",
      "['trends']\n",
      "- trends\n",
      "---\n",
      "['.']\n",
      "- .\n"
     ]
    }
   ],
   "source": [
    "import nltk\n",
    "s = '(ROOT (S (NP (NNP Europe)) (VP (VBZ is) (PP (IN in) (NP (DT the) (JJ same) (NNS trends)))) (. .)))'\n",
    "tree = nltk.tree.Tree.fromstring(s)\n",
    "print(tree)\n",
    "def traverse_tree(tree):\n",
    "    print(\"---\")\n",
    "    #print('\\n')\n",
    "    #print(\"tree:\", tree)\n",
    "    print(tree.leaves())\n",
    "    for subtree in tree:\n",
    "        if type(subtree) == nltk.tree.Tree:\n",
    "            traverse_tree(subtree)\n",
    "        else:\n",
    "            print('-',subtree)\n",
    "traverse_tree(tree)"
   ]
  },
  {
   "cell_type": "code",
   "execution_count": 22,
   "id": "a8800ccc",
   "metadata": {},
   "outputs": [
    {
     "name": "stdout",
     "output_type": "stream",
     "text": [
      "['Europe_0', 'is_1', 'in_2', 'the_3', 'same_4', 'trends_5', '._6']\n"
     ]
    }
   ],
   "source": [
    "from nltk.tree import ParentedTree\n",
    "\n",
    "def add_indices_to_terminals(tree):\n",
    "    for idx, _ in enumerate(tree.leaves()):\n",
    "        tree_location = tree.leaf_treeposition(idx)\n",
    "        non_terminal = tree[tree_location[:-1]]\n",
    "        non_terminal[0] = non_terminal[0] + \"_\" + str(idx)\n",
    "    return tree\n",
    "res = add_indices_to_terminals(s)\n",
    "print(res.leaves())"
   ]
  }
 ],
 "metadata": {
  "kernelspec": {
   "display_name": "Python 3",
   "language": "python",
   "name": "python3"
  },
  "language_info": {
   "codemirror_mode": {
    "name": "ipython",
    "version": 3
   },
   "file_extension": ".py",
   "mimetype": "text/x-python",
   "name": "python",
   "nbconvert_exporter": "python",
   "pygments_lexer": "ipython3",
   "version": "3.8.5"
  }
 },
 "nbformat": 4,
 "nbformat_minor": 5
}
